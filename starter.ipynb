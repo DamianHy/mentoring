{
 "cells": [
  {
   "cell_type": "code",
   "execution_count": 2,
   "metadata": {},
   "outputs": [
    {
     "name": "stdout",
     "output_type": "stream",
     "text": [
      "Result of dummy algorithm: 8\n"
     ]
    }
   ],
   "source": [
    "\"\"\"\n",
    "Assignment 1\n",
    "Implement Greatest Common Divisor\n",
    "\n",
    "\n",
    "\"\"\"\n",
    "a=12\n",
    "b=8\n",
    "while True:\n",
    "    if a == b:\n",
    "        break\n",
    "    a = a - 1\n",
    "\n",
    "print(\"Result of dummy algorithm:\", a)"
   ]
  },
  {
   "cell_type": "code",
   "execution_count": 3,
   "metadata": {},
   "outputs": [
    {
     "name": "stdout",
     "output_type": "stream",
     "text": [
      "morethan15characters is not valid. More than 15 characters\n"
     ]
    }
   ],
   "source": [
    "\"\"\"\n",
    "Assignment 2\n",
    "Validation\n",
    "\n",
    "There is two ways to resolve it.\n",
    "- built-in string methods (simpler)\n",
    "- regex (harder)\n",
    "\n",
    "\"\"\"\n",
    "\n",
    "a = \"morethan15characters\"\n",
    "if (len(a) > 15):\n",
    "    print (a, \"is not valid. More than 15 characters\")"
   ]
  },
  {
   "cell_type": "code",
   "execution_count": null,
   "metadata": {},
   "outputs": [],
   "source": [
    "\"\"\"\n",
    "Assignment 3\n",
    "\n",
    "FizzBuzz\n",
    "\"\"\""
   ]
  }
 ],
 "metadata": {
  "interpreter": {
   "hash": "aee8b7b246df8f9039afb4144a1f6fd8d2ca17a180786b69acc140d282b71a49"
  },
  "kernelspec": {
   "display_name": "Python 3.8.2 64-bit",
   "name": "python3"
  },
  "language_info": {
   "codemirror_mode": {
    "name": "ipython",
    "version": 3
   },
   "file_extension": ".py",
   "mimetype": "text/x-python",
   "name": "python",
   "nbconvert_exporter": "python",
   "pygments_lexer": "ipython3",
   "version": "3.8.2"
  },
  "orig_nbformat": 4
 },
 "nbformat": 4,
 "nbformat_minor": 2
}
